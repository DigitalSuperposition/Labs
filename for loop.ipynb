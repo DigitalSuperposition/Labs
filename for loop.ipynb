{
 "cells": [
  {
   "cell_type": "code",
   "execution_count": 1,
   "id": "35cc4598-032d-4795-b18e-788322330247",
   "metadata": {},
   "outputs": [],
   "source": [
    "#loops "
   ]
  },
  {
   "cell_type": "code",
   "execution_count": 2,
   "id": "462a4304-dc0e-43cc-b977-31817fa0ce70",
   "metadata": {},
   "outputs": [],
   "source": [
    "#for loop 1"
   ]
  },
  {
   "cell_type": "code",
   "execution_count": 3,
   "id": "238e9eeb-4ddb-44b8-86c0-3ca2844eac4f",
   "metadata": {},
   "outputs": [
    {
     "name": "stdout",
     "output_type": "stream",
     "text": [
      "2\n",
      "4\n",
      "6\n",
      "8\n",
      "10\n"
     ]
    }
   ],
   "source": [
    "numbers = [2, 4, 6, 8, 10]\n",
    "\n",
    "for i in numbers:\n",
    "   print(i)\n",
    "\n",
    "numbers.append(1)"
   ]
  },
  {
   "cell_type": "code",
   "execution_count": 4,
   "id": "29448d93-224d-442f-bb7a-98085a3cd74e",
   "metadata": {},
   "outputs": [],
   "source": [
    "#range function, range(start, stop, stop)"
   ]
  },
  {
   "cell_type": "code",
   "execution_count": 5,
   "id": "96a6ad2e-1802-42fb-9267-0d41dc61653f",
   "metadata": {},
   "outputs": [],
   "source": [
    "#To pass negative values in step need to also reverse the order of the list (start, stop)"
   ]
  },
  {
   "cell_type": "code",
   "execution_count": 6,
   "id": "def49852-b57f-41b9-929d-ee38181c89a7",
   "metadata": {},
   "outputs": [
    {
     "name": "stdout",
     "output_type": "stream",
     "text": [
      "10\n",
      "8\n",
      "6\n",
      "4\n",
      "2\n"
     ]
    }
   ],
   "source": [
    "numbers = [2, 4, 6, 8, 10]\n",
    "\n",
    "for i in range(10, 1, -2 ):\n",
    "   print(i)\n"
   ]
  },
  {
   "cell_type": "code",
   "execution_count": null,
   "id": "05c3079d-e629-4d88-ae2f-2bb78c2bf02a",
   "metadata": {},
   "outputs": [],
   "source": []
  }
 ],
 "metadata": {
  "kernelspec": {
   "display_name": "Python 3 (ipykernel)",
   "language": "python",
   "name": "python3"
  },
  "language_info": {
   "codemirror_mode": {
    "name": "ipython",
    "version": 3
   },
   "file_extension": ".py",
   "mimetype": "text/x-python",
   "name": "python",
   "nbconvert_exporter": "python",
   "pygments_lexer": "ipython3",
   "version": "3.13.3"
  }
 },
 "nbformat": 4,
 "nbformat_minor": 5
}
